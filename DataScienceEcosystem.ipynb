{
 "cells": [
  {
   "cell_type": "markdown",
   "id": "f6d03679",
   "metadata": {},
   "source": [
    "# Data Science Tools and Ecosystem"
   ]
  },
  {
   "cell_type": "markdown",
   "id": "e622c400",
   "metadata": {},
   "source": [
    "## Author\n",
    "\n",
    "Adi Jacobson"
   ]
  },
  {
   "cell_type": "markdown",
   "id": "c43f1039",
   "metadata": {},
   "source": [
    "In this notebook, Data Science Tools and Ecosystem are summarized using various markdown cell styles."
   ]
  },
  {
   "cell_type": "markdown",
   "id": "1298c48e",
   "metadata": {},
   "source": [
    "**Objectives:**\n",
    "\n",
    "* List popular languages for Data Science\n",
    "* List popular libraries for Data Science\n",
    "* List popular tools for Data Science\n",
    "* Arithmetic Expressions"
   ]
  },
  {
   "cell_type": "markdown",
   "id": "38091f8d",
   "metadata": {},
   "source": [
    "Some of the popular languages that Data Scientists use are:\n",
    "\n",
    "1. Python\n",
    "2. R\n",
    "3. SQL\n",
    "4. Java"
   ]
  },
  {
   "cell_type": "markdown",
   "id": "22a0e4fd",
   "metadata": {},
   "source": [
    "Some of the commonly used libraries used by Data Scientists include:\n",
    "\n",
    "1. Pandas\n",
    "2. SciPy\n",
    "3. NumPy\n",
    "4. Seaborn"
   ]
  },
  {
   "cell_type": "markdown",
   "id": "42c449c0",
   "metadata": {},
   "source": [
    "| Data Science Tools \n",
    "| :-----------:\n",
    "| Apache Spark \n",
    "| Apache Hadoop \n",
    "| Tensorflow"
   ]
  },
  {
   "cell_type": "markdown",
   "id": "d213e24e",
   "metadata": {},
   "source": [
    "### Below are a few examples of evaluating arithmetic expressions in Python"
   ]
  },
  {
   "cell_type": "code",
   "execution_count": 2,
   "id": "ef13e073",
   "metadata": {},
   "outputs": [
    {
     "data": {
      "text/plain": [
       "17"
      ]
     },
     "execution_count": 2,
     "metadata": {},
     "output_type": "execute_result"
    }
   ],
   "source": [
    "# This a simple arithmetic expression to mutiply then add integers\n",
    "\n",
    "(3*4)+5"
   ]
  },
  {
   "cell_type": "code",
   "execution_count": 3,
   "id": "1654397f",
   "metadata": {},
   "outputs": [
    {
     "data": {
      "text/plain": [
       "3.3333333333333335"
      ]
     },
     "execution_count": 3,
     "metadata": {},
     "output_type": "execute_result"
    }
   ],
   "source": [
    "# This will convert 200 minutes to hours by diving by 60\n",
    "\n",
    "200 / 60"
   ]
  },
  {
   "cell_type": "code",
   "execution_count": null,
   "id": "3cac63ad",
   "metadata": {},
   "outputs": [],
   "source": []
  }
 ],
 "metadata": {
  "kernelspec": {
   "display_name": "Python 3",
   "language": "python",
   "name": "python3"
  },
  "language_info": {
   "codemirror_mode": {
    "name": "ipython",
    "version": 3
   },
   "file_extension": ".py",
   "mimetype": "text/x-python",
   "name": "python",
   "nbconvert_exporter": "python",
   "pygments_lexer": "ipython3",
   "version": "3.8.8"
  }
 },
 "nbformat": 4,
 "nbformat_minor": 5
}
